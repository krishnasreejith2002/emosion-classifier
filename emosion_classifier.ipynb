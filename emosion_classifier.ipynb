{
 "cells": [
  {
   "cell_type": "code",
   "execution_count": 3,
   "id": "63705aed",
   "metadata": {},
   "outputs": [
    {
     "name": "stdout",
     "output_type": "stream",
     "text": [
      "Index(['text', 'label'], dtype='object')\n"
     ]
    }
   ],
   "source": [
    "import pandas as pd\n",
    "\n",
    "df = pd.read_csv('emotions_10000.csv')\n",
    "print(df.columns)\n"
   ]
  },
  {
   "cell_type": "code",
   "execution_count": 4,
   "id": "6068d1fa",
   "metadata": {},
   "outputs": [],
   "source": [
    "text_column = 'text'      # Change this based on actual column name\n",
    "label_column = 'emotion'  # Change this based on actual column name\n"
   ]
  },
  {
   "cell_type": "code",
   "execution_count": 9,
   "id": "2707662b",
   "metadata": {},
   "outputs": [
    {
     "name": "stdout",
     "output_type": "stream",
     "text": [
      "\n",
      "🔍 Training with kernel: linear\n",
      "✅ Accuracy: 0.8480\n",
      "📊 Classification Report:\n",
      "              precision    recall  f1-score   support\n",
      "\n",
      "           0       0.85      0.95      0.89       551\n",
      "           1       0.83      0.93      0.88       686\n",
      "           2       0.87      0.55      0.67       164\n",
      "           3       0.93      0.79      0.85       265\n",
      "           4       0.83      0.75      0.79       255\n",
      "           5       0.77      0.56      0.65        79\n",
      "\n",
      "    accuracy                           0.85      2000\n",
      "   macro avg       0.85      0.75      0.79      2000\n",
      "weighted avg       0.85      0.85      0.84      2000\n",
      "\n",
      "\n",
      "🔍 Training with kernel: rbf\n",
      "✅ Accuracy: 0.7850\n",
      "📊 Classification Report:\n",
      "              precision    recall  f1-score   support\n",
      "\n",
      "           0       0.79      0.94      0.86       551\n",
      "           1       0.72      0.97      0.83       686\n",
      "           2       0.93      0.32      0.48       164\n",
      "           3       0.94      0.64      0.76       265\n",
      "           4       0.85      0.56      0.67       255\n",
      "           5       0.93      0.35      0.51        79\n",
      "\n",
      "    accuracy                           0.79      2000\n",
      "   macro avg       0.86      0.63      0.69      2000\n",
      "weighted avg       0.81      0.79      0.77      2000\n",
      "\n",
      "\n",
      "🔍 Training with kernel: poly\n",
      "✅ Accuracy: 0.5610\n",
      "📊 Classification Report:\n",
      "              precision    recall  f1-score   support\n",
      "\n",
      "           0       0.74      0.70      0.72       551\n",
      "           1       0.48      0.99      0.65       686\n",
      "           2       0.71      0.03      0.06       164\n",
      "           3       0.93      0.11      0.19       265\n",
      "           4       0.91      0.08      0.14       255\n",
      "           5       0.67      0.03      0.05        79\n",
      "\n",
      "    accuracy                           0.56      2000\n",
      "   macro avg       0.74      0.32      0.30      2000\n",
      "weighted avg       0.69      0.56      0.47      2000\n",
      "\n",
      "\n",
      "🔍 Training with kernel: sigmoid\n",
      "✅ Accuracy: 0.8460\n",
      "📊 Classification Report:\n",
      "              precision    recall  f1-score   support\n",
      "\n",
      "           0       0.84      0.94      0.89       551\n",
      "           1       0.82      0.94      0.88       686\n",
      "           2       0.91      0.51      0.65       164\n",
      "           3       0.94      0.79      0.86       265\n",
      "           4       0.84      0.75      0.79       255\n",
      "           5       0.79      0.56      0.65        79\n",
      "\n",
      "    accuracy                           0.85      2000\n",
      "   macro avg       0.86      0.75      0.79      2000\n",
      "weighted avg       0.85      0.85      0.84      2000\n",
      "\n"
     ]
    }
   ],
   "source": [
    "import pandas as pd\n",
    "from sklearn.model_selection import train_test_split\n",
    "from sklearn.feature_extraction.text import TfidfVectorizer\n",
    "from sklearn.svm import SVC\n",
    "from sklearn.metrics import classification_report, accuracy_score\n",
    "\n",
    "# Load the dataset\n",
    "df = pd.read_csv('emotions_10000.csv')\n",
    "\n",
    "# Use the correct column names\n",
    "text_column = 'text'\n",
    "label_column = 'label'\n",
    "\n",
    "# Drop missing values\n",
    "df = df[[text_column, label_column]].dropna()\n",
    "\n",
    "# Train-test split\n",
    "X_train, X_test, y_train, y_test = train_test_split(df[text_column], df[label_column], test_size=0.2, random_state=42)\n",
    "\n",
    "# TF-IDF Vectorization\n",
    "vectorizer = TfidfVectorizer(max_features=5000)\n",
    "X_train_tfidf = vectorizer.fit_transform(X_train)\n",
    "X_test_tfidf = vectorizer.transform(X_test)\n",
    "\n",
    "# Try different SVM kernels\n",
    "kernels = ['linear', 'rbf', 'poly', 'sigmoid']\n",
    "\n",
    "for kernel in kernels:\n",
    "    print(f\"\\n🔍 Training with kernel: {kernel}\")\n",
    "    model = SVC(kernel=kernel)\n",
    "    model.fit(X_train_tfidf, y_train)\n",
    "    y_pred = model.predict(X_test_tfidf)\n",
    "\n",
    "    acc = accuracy_score(y_test, y_pred)\n",
    "    print(f\"✅ Accuracy: {acc:.4f}\")\n",
    "    print(\"📊 Classification Report:\")\n",
    "    print(classification_report(y_test, y_pred))\n"
   ]
  },
  {
   "cell_type": "code",
   "execution_count": null,
   "id": "87891637",
   "metadata": {},
   "outputs": [],
   "source": []
  }
 ],
 "metadata": {
  "kernelspec": {
   "display_name": "Python 3",
   "language": "python",
   "name": "python3"
  },
  "language_info": {
   "codemirror_mode": {
    "name": "ipython",
    "version": 3
   },
   "file_extension": ".py",
   "mimetype": "text/x-python",
   "name": "python",
   "nbconvert_exporter": "python",
   "pygments_lexer": "ipython3",
   "version": "3.12.6"
  }
 },
 "nbformat": 4,
 "nbformat_minor": 5
}
